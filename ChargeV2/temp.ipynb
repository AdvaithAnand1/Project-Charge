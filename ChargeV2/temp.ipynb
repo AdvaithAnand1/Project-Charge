{
 "cells": [
  {
   "cell_type": "code",
   "execution_count": null,
   "id": "ef4a0eac",
   "metadata": {},
   "outputs": [],
   "source": [
    "import winreg\n",
    "from datetime import time\n",
    "\n",
    "def get_windows_active_hours():\n",
    "    \"\"\"\n",
    "    Returns a tuple (start_time, end_time) of datetime.time objects\n",
    "    corresponding to Windows’ Active Hours window.\n",
    "    \"\"\"\n",
    "    try:\n",
    "        # Open the Settings key (64-bit view)\n",
    "        key = winreg.OpenKey(\n",
    "            winreg.HKEY_LOCAL_MACHINE,\n",
    "            r\"SOFTWARE\\Microsoft\\WindowsUpdate\\UX\\Settings\",\n",
    "            0,\n",
    "            winreg.KEY_READ | winreg.KEY_WOW64_64KEY\n",
    "        )\n",
    "        start_hour, _ = winreg.QueryValueEx(key, \"ActiveHoursStart\")\n",
    "        end_hour,   _ = winreg.QueryValueEx(key, \"ActiveHoursEnd\")\n",
    "        return float(start_hour), float(end_hour)\n",
    "    except FileNotFoundError:\n",
    "        raise RuntimeError(\"Could not find ActiveHours registry keys.\")\n",
    "    except OSError as e:\n",
    "        raise RuntimeError(f\"Error reading ActiveHours: {e}\")"
   ]
  },
  {
   "cell_type": "code",
   "execution_count": 6,
   "id": "86f0be1e",
   "metadata": {},
   "outputs": [
    {
     "name": "stdout",
     "output_type": "stream",
     "text": [
      "Windows Active Hours: 8 → 2\n"
     ]
    }
   ],
   "source": [
    "start, end = get_windows_active_hours()\n",
    "print(f\"Windows Active Hours: {start} → {end}\")"
   ]
  },
  {
   "cell_type": "code",
   "execution_count": null,
   "id": "82f4f51e",
   "metadata": {},
   "outputs": [],
   "source": []
  },
  {
   "cell_type": "code",
   "execution_count": null,
   "id": "593b603c",
   "metadata": {},
   "outputs": [],
   "source": []
  },
  {
   "cell_type": "code",
   "execution_count": null,
   "id": "05ec703a",
   "metadata": {},
   "outputs": [],
   "source": []
  },
  {
   "cell_type": "code",
   "execution_count": null,
   "id": "1c3f5980",
   "metadata": {},
   "outputs": [],
   "source": []
  },
  {
   "cell_type": "code",
   "execution_count": null,
   "id": "a2d8cd17",
   "metadata": {},
   "outputs": [],
   "source": []
  },
  {
   "cell_type": "code",
   "execution_count": null,
   "id": "dfd8c561",
   "metadata": {},
   "outputs": [],
   "source": []
  },
  {
   "cell_type": "code",
   "execution_count": null,
   "id": "ccabb071",
   "metadata": {},
   "outputs": [],
   "source": []
  },
  {
   "cell_type": "code",
   "execution_count": null,
   "id": "c9d1e8d6",
   "metadata": {},
   "outputs": [],
   "source": []
  },
  {
   "cell_type": "code",
   "execution_count": null,
   "id": "74792489",
   "metadata": {},
   "outputs": [],
   "source": []
  },
  {
   "cell_type": "code",
   "execution_count": null,
   "id": "23383263",
   "metadata": {},
   "outputs": [],
   "source": []
  },
  {
   "cell_type": "code",
   "execution_count": null,
   "id": "462069fd",
   "metadata": {},
   "outputs": [],
   "source": []
  },
  {
   "cell_type": "code",
   "execution_count": null,
   "id": "e7382333",
   "metadata": {},
   "outputs": [],
   "source": []
  },
  {
   "cell_type": "code",
   "execution_count": null,
   "id": "9ee718aa",
   "metadata": {},
   "outputs": [],
   "source": []
  },
  {
   "cell_type": "code",
   "execution_count": null,
   "id": "b9183b49",
   "metadata": {},
   "outputs": [],
   "source": []
  },
  {
   "cell_type": "code",
   "execution_count": null,
   "id": "c38dd037",
   "metadata": {},
   "outputs": [],
   "source": []
  }
 ],
 "metadata": {
  "kernelspec": {
   "display_name": "3.13.3",
   "language": "python",
   "name": "python3"
  },
  "language_info": {
   "codemirror_mode": {
    "name": "ipython",
    "version": 3
   },
   "file_extension": ".py",
   "mimetype": "text/x-python",
   "name": "python",
   "nbconvert_exporter": "python",
   "pygments_lexer": "ipython3",
   "version": "3.13.3"
  }
 },
 "nbformat": 4,
 "nbformat_minor": 5
}
